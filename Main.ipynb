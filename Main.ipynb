{
 "cells": [
  {
   "cell_type": "markdown",
   "id": "floral-thickness",
   "metadata": {},
   "source": [
    "# Detector Information"
   ]
  },
  {
   "cell_type": "markdown",
   "id": "adapted-homeless",
   "metadata": {},
   "source": [
    "In Hall A of Jefferson Labs, the exploration of deep-inelastic electron scattering is facilitated by two matching high-resolution spectrometers: BigBite and SuperBigBite. While BigBite focuses on observing pre-shower and shower electromagnetic events, SuperBigBite is designed to analyze hadronic shower. Both components are shown below. "
   ]
  },
  {
   "cell_type": "markdown",
   "id": "outstanding-houston",
   "metadata": {},
   "source": [
    "<img src=\"pictures/showerdiagram.png\" alt=\"electromagnetic shower diagram\" style=\"width:600px;height:300px;\">"
   ]
  },
  {
   "cell_type": "markdown",
   "id": "joint-heading",
   "metadata": {},
   "source": [
    "## BigBite Spectrometer "
   ]
  },
  {
   "cell_type": "markdown",
   "id": "unlimited-object",
   "metadata": {},
   "source": [
    "<img src=\"pictures/bbcalDIAGRAM.png\" alt=\"cartoon diagram of bb spec\" style=\"width:600px;height:400px;\">"
   ]
  },
  {
   "cell_type": "markdown",
   "id": "exclusive-partition",
   "metadata": {},
   "source": [
    "    "
   ]
  },
  {
   "cell_type": "markdown",
   "id": "imported-strength",
   "metadata": {},
   "source": [
    "    "
   ]
  },
  {
   "cell_type": "markdown",
   "id": "endless-secretariat",
   "metadata": {},
   "source": [
    "### Gas Electron Multipliers (GEMs)"
   ]
  },
  {
   "cell_type": "markdown",
   "id": "painted-staff",
   "metadata": {},
   "source": [
    "<img src=\"pictures/GEM.jpeg\" alt=\"image of GEM\" style=\"width:600px;height:400px;\">"
   ]
  },
  {
   "cell_type": "markdown",
   "id": "faced-spending",
   "metadata": {},
   "source": [
    "Gas Electron Multipliers (GEMs) are advanced gas detectors designed to amplify and detect charged particles with exceptional precision and efficiency. They employ a multi-layered structure consisting of a thin polymer foil perforated with microscale holes. When charged particles traverse the GEM, they ionize the gas atoms, creating electron-ion pairs. The liberated electrons drift towards the holes in the foil, entering a high-field region known as the \"ionization region.\" In this region, the electric field is intensified, triggering secondary ionization and initiating an electron avalanche. This exponential growth of electrons leads to significant signal amplification, making GEMs highly sensitive detectors."
   ]
  },
  {
   "cell_type": "markdown",
   "id": "everyday-circle",
   "metadata": {},
   "source": [
    "<img src=\"pictures/gemstack.gif\" alt=\"image of GEM stacked\" style=\"width:400px;height:400px;\">"
   ]
  },
  {
   "cell_type": "markdown",
   "id": "critical-breath",
   "metadata": {},
   "source": [
    "To achieve even higher amplification, GEM detectors utilize multiple stacked foils with specific voltage differences across them. This multi-stage configuration enables successive amplification of the electron avalanche, resulting in an exponential increase in the signal output. The amplified electron signal is collected and read out by segmented anode electrodes positioned on the backside of the GEM structure. These electrodes enable precise spatial resolution and accurate determination of the particle's position."
   ]
  },
  {
   "cell_type": "markdown",
   "id": "pressing-fossil",
   "metadata": {},
   "source": [
    "    "
   ]
  },
  {
   "cell_type": "markdown",
   "id": "proprietary-entity",
   "metadata": {},
   "source": [
    "### Hodoscope"
   ]
  },
  {
   "cell_type": "markdown",
   "id": "several-colon",
   "metadata": {},
   "source": [
    "<img src=\"pictures/hodoscope.png\" alt=\"hodoscope diagram\" style=\"width:350px;height:600px;\">"
   ]
  },
  {
   "cell_type": "markdown",
   "id": "earlier-canadian",
   "metadata": {},
   "source": [
    "The BigBite (BB) timing hodoscope (TH) is positioned between the Pre-shower and Shower electric calorimeters in BB. The TH is constructed of 90 vertically stacked plastic scintillator bars which emit light when struck by particles. Acrylic rod light guides are glued with plastic bonding adhesive to both ends of the bars allowing for close packing of the detector within a constrained space. Coupled with the light guides are PMTs, resulting in 180 readout channels for the TH. The signals from the PMTs are extracted to custom made front-end cards based on CERN’s NINO ASIC, a low power front-end amplifier discriminator chip which allows for an 8-channel input signal charge measurement. The signals from the front end cards are then readout to VMA-based multi-hit TDCs (time-to-digital converters). With this setup, the vertical bar number and the time difference between the two signals from the PMTs on the bar can be used to determine the raw position of an electron that hits the TH."
   ]
  },
  {
   "cell_type": "markdown",
   "id": "illegal-directive",
   "metadata": {},
   "source": [
    "    "
   ]
  },
  {
   "cell_type": "markdown",
   "id": "impressed-olympus",
   "metadata": {},
   "source": [
    "### Gas RINg Imaging CHerenkov (GRINCH)"
   ]
  },
  {
   "cell_type": "markdown",
   "id": "thrown-methodology",
   "metadata": {},
   "source": [
    "<img src=\"pictures/PMTgrinch.png\" alt=\"diagram of inside pmt\" style=\"width:400px;height:400px;\">"
   ]
  },
  {
   "cell_type": "markdown",
   "id": "supposed-clearing",
   "metadata": {},
   "source": [
    "Gas RINg Imaging CHerenkov (GRINCH) is an imaging technique used in the field of particle physics to detect and study high-energy particles, particularly charged particles like electrons and positrons. It is based on the detection of Cherenkov radiation, which is electromagnetic radiation emitted when a charged particle travels through a medium at a speed greater than the speed of light in that medium.\n",
    "\n",
    "The GRINCH detector consists of a ring-shaped vessel filled with a gas, typically a mixture of nitrogen and a noble gas like helium or neon. When a charged particle passes through the gas, it ionizes the atoms along its path, creating an electron avalanche. This avalanche generates a short, intense burst of Cherenkov radiation in the form of ultraviolet (UV) photons."
   ]
  },
  {
   "cell_type": "markdown",
   "id": "perceived-weight",
   "metadata": {},
   "source": [
    "<img src=\"pictures/cherencov-circles.png\" alt=\"diagram of Cherenkov rings\" style=\"width:600px;height:400px;\">"
   ]
  },
  {
   "cell_type": "markdown",
   "id": "minor-disaster",
   "metadata": {},
   "source": [
    "The key feature of the GRINCH detector is its ring-shaped geometry. Surrounding the gas-filled vessel is an array of photodetectors that are sensitive to UV light. These photodetectors, such as photomultiplier tubes (PMTs) or silicon photomultipliers (SiPMs), are strategically positioned to capture the Cherenkov photons emitted in a ring pattern.\n",
    "\n",
    "As the Cherenkov photons propagate outward from the charged particle's path, they strike the photodetectors in the ring pattern. By measuring the arrival time and intensity of the detected photons, the GRINCH detector can reconstruct the trajectory and energy of the charged particle that created the Cherenkov radiation.\n",
    "\n",
    "The ring-shaped design of the GRINCH detector offers several advantages. First, it provides a high spatial resolution, allowing for precise position measurements of the charged particle. Second, it offers a large active area for photon detection, maximizing the detection efficiency. Lastly, the ring geometry allows for the suppression of background noise and better discrimination against unwanted signals."
   ]
  },
  {
   "cell_type": "markdown",
   "id": "accepting-spotlight",
   "metadata": {},
   "source": [
    "    "
   ]
  },
  {
   "cell_type": "markdown",
   "id": "fifty-turtle",
   "metadata": {},
   "source": [
    "### Pre-Shower"
   ]
  },
  {
   "cell_type": "markdown",
   "id": "prescribed-relations",
   "metadata": {},
   "source": [
    "<!-- <img src=\"pictures/PMTmods.jpeg\" alt=\"pmt pictures\" style=\"width:600px;height:400px;\"> -->"
   ]
  },
  {
   "cell_type": "markdown",
   "id": "sticky-situation",
   "metadata": {},
   "source": [
    "The pre-shower detector identifies electromagnetic particles. The preshower, which has 52 blocks, initiates the shower, which has 189 blocks. A shower is a cascade of secondary particles produced as the result of a high-energy particle interacting with dense matter. The pre-shower is unable to stop the electrons because they are not as deep as the shower."
   ]
  },
  {
   "cell_type": "markdown",
   "id": "hired-training",
   "metadata": {},
   "source": [
    "    "
   ]
  },
  {
   "cell_type": "markdown",
   "id": "editorial-insight",
   "metadata": {},
   "source": [
    "### Shower"
   ]
  },
  {
   "cell_type": "markdown",
   "id": "unavailable-smoke",
   "metadata": {},
   "source": [
    "<img src=\"pictures/shower.jpeg\" alt=\"BigBite shower\" style=\"width:600px;height:400px;\">"
   ]
  },
  {
   "cell_type": "markdown",
   "id": "hearing-works",
   "metadata": {},
   "source": [
    "The Shower detector accepts the pre-initiated electromagnetic shower and rejects the pions. This is important because pions create an energy peak that is easily distinguishable due to their $e^-$ peak. The electromagnetic showers then run through the system and hit the Photo Multiplyer Tubes (PMTs). The PMTs collect Cherenkov light from relativistically charged particles including primaries and secondary $e^+ / e^-$ shower in electromagnetic cascades. "
   ]
  },
  {
   "cell_type": "markdown",
   "id": "becoming-firewall",
   "metadata": {},
   "source": [
    "## Super BigBite Spectrometer "
   ]
  },
  {
   "cell_type": "markdown",
   "id": "latest-biography",
   "metadata": {},
   "source": [
    "<img src=\"pictures/SBS-overview.jpg\" alt=\"SBS overview diagram\" style=\"width:600px;height:400px;\">"
   ]
  },
  {
   "cell_type": "markdown",
   "id": "5371df09-c817-47e6-8f80-927a0279e9b9",
   "metadata": {},
   "source": [
    "The SuperBigByte detector is designed to analyze the energy and properties of hadronic showers. It consists of three large parts. The 48D48 is a warm coil magnet that deflects positvely charged particles upward. Then the GEMs are gas electron multiplier detectors; based on gas amplification in three cascaded GEM foils, these devices permit to obtain high gain and good spatial resolution even at very high particle fluxes. The Hadron Calorimeter (HCAL) measures the energy of hadrons, and can detect protons, nuetrons, pions, and kaons through its 288 individual detector modules. Lastly, a trigger system uses complex criteria to decide which events should be recorded for later analysis. "
   ]
  },
  {
   "cell_type": "markdown",
   "id": "696526f1-8b96-4cc9-833e-daee535f105e",
   "metadata": {},
   "source": [
    "### HCal"
   ]
  },
  {
   "cell_type": "markdown",
   "id": "assured-dream",
   "metadata": {},
   "source": [
    "The HCal comprises several essential elements that contribute to its functionality. The active material within the calorimeter consists of scintillator tiles. These tiles exhibit the property of scintillation, emitting photons in response to the energy deposited by particles. The scintillation light is proportional to the energy of the incident particle and serves as the basis for subsequent analysis."
   ]
  },
  {
   "cell_type": "markdown",
   "id": "thorough-workplace",
   "metadata": {},
   "source": [
    "<img src=\"pictures/hcalDIAGRAM.png\" alt=\"diagram of SBS\" style=\"width:600px;height:400px;\">"
   ]
  },
  {
   "cell_type": "markdown",
   "id": "bottom-display",
   "metadata": {},
   "source": [
    "Positioned at the edges of the scintillator tiles are arrays of PMTs. These PMTs serve as light detectors, efficiently collecting the scintillation photons and converting them into electrical signals. Through an amplification process, the PMTs enhance the faint signals, enabling their precise measurement and subsequent recording by sophisticated data acquisition systems.\n",
    "\n",
    "To facilitate the transmission of scintillation light from the tiles to the PMTs, the HCal employs an optimized light guide system. These light guides, composed of materials with excellent light transmission properties, minimize losses during light propagation, ensuring accurate energy measurements and efficient light collection."
   ]
  },
  {
   "cell_type": "markdown",
   "id": "adverse-grounds",
   "metadata": {},
   "source": [
    "<img src=\"pictures/hcal.png\" alt=\"hcal pics\" style=\"width:600px;height:400px;\">"
   ]
  },
  {
   "cell_type": "markdown",
   "id": "sixth-italy",
   "metadata": {},
   "source": [
    "Furthermore, the HCal incorporates electronic readout modules, which process the electrical signals from the PMTs. These modules perform essential functions such as signal amplification, shaping, and digitization. By converting the analog signals into digital information, the readout modules enable precise energy measurements, which form the foundation for comprehensive analysis and interpretation."
   ]
  },
  {
   "cell_type": "markdown",
   "id": "instrumental-italian",
   "metadata": {},
   "source": [
    "    "
   ]
  },
  {
   "cell_type": "markdown",
   "id": "instant-heart",
   "metadata": {},
   "source": [
    "<img src=\"pictures/hcalunit1.png\" alt=\"diagram of hcal\" style=\"width:600px;height:400px;\">"
   ]
  },
  {
   "cell_type": "markdown",
   "id": "retired-basket",
   "metadata": {},
   "source": [
    "The HCAL-J hadron calorimeter array, 12 detector modules wide by 24 modules high, shown mounted at the back of the SPS detector package.\n"
   ]
  },
  {
   "cell_type": "markdown",
   "id": "absent-bride",
   "metadata": {},
   "source": [
    "<img src=\"pictures/individualMod.png\" alt=\"picture of individual module\" style=\"width:600px;height:400px;\">"
   ]
  },
  {
   "cell_type": "markdown",
   "id": "specific-rebecca",
   "metadata": {},
   "source": [
    "Above is an individual module. Two rows of alternating iron energy absorbers and scintillators and a single wavelength shifter that runs the length of the modules between the two rows. The wavelength shifter directs light to a 2 inch diameter PMT mounted on the back of the module. "
   ]
  },
  {
   "cell_type": "markdown",
   "id": "intelligent-algeria",
   "metadata": {},
   "source": [
    "    "
   ]
  },
  {
   "cell_type": "markdown",
   "id": "passing-potato",
   "metadata": {},
   "source": [
    "### GEM Trackers"
   ]
  },
  {
   "cell_type": "markdown",
   "id": "lonely-boston",
   "metadata": {},
   "source": [
    "GEMs are gas-based detectors that consist of polyamide foil with conductive layers on both sides. These conductive layers are divided into a pattern of copper or gold microstrips that act as electrodes. In between the conductive layers, there are channels in the foil known as microholes. "
   ]
  },
  {
   "cell_type": "markdown",
   "id": "brilliant-highland",
   "metadata": {},
   "source": [
    "<img src=\"pictures/gem.png\" alt=\"gem diagram\" style=\"width:600px;height:400px;\">"
   ]
  },
  {
   "cell_type": "markdown",
   "id": "material-acrobat",
   "metadata": {},
   "source": [
    "As the protons and neutrons from the target pass through the SBS, this ionizing radiation knocks off electrons from their nucleus. The GEM guides the electrons to the microholes, a region with a large electric field, consequently initiating an electron avalanche. As the accelerated electrons collide with other atoms in the medium to release additional electrons, the affected regions become an electrically conductive plasma that has a large enough current to be read by electronics. \n",
    "While the thin GEM consists of polyimide foil of only a few tens of micrometers tick and have precise measurements and excellent spatial resolution, the thick GMS have around 400 to 500 micrometers of polyimide foil providing it better efficiency in detecting low energy particles such as scattered electrons or recoil protons. \n",
    "The CH2 regions between the GEMs stand for methylene, a polymer responsible for scattering high-energy particles upon interaction. "
   ]
  },
  {
   "cell_type": "markdown",
   "id": "c42647c3-29ad-4287-949c-4401054ef257",
   "metadata": {},
   "source": [
    "## Kinematics"
   ]
  },
  {
   "cell_type": "markdown",
   "id": "powerful-entrepreneur",
   "metadata": {},
   "source": [
    "<img src=\"pictures/bbVSsbs.png\" alt=\"bbcal v hcal\" style=\"width:600px;height:400px;\">"
   ]
  },
  {
   "cell_type": "markdown",
   "id": "corresponding-vertex",
   "metadata": {},
   "source": [
    "The reaction between the electron beam and the target is governed by the conservation of four-momentum. Assuming that the target is at rest, this means that for an elastic collision"
   ]
  },
  {
   "cell_type": "markdown",
   "id": "604c8e33-1bac-4308-87f0-6fa0bc193643",
   "metadata": {},
   "source": [
    "$$\\textbf{k} +\\textbf{p}= \\textbf{k}^\\prime + \\textbf{p}^\\prime$$\r\n"
   ]
  },
  {
   "cell_type": "markdown",
   "id": "surgical-helena",
   "metadata": {},
   "source": [
    "where $\\textbf{k}$ is the 4-momentum vector of the electron beam, $\\textbf{p}$ the 4-mometnum vector of the proton ($^1_1\\text{H}$), while $\\textbf{k}^\\prime$ represents the scattered electron and $\\textbf{p}^\\prime$  the ejected proton. When moving near the speed of light, the electron beam with relatavistic energy $E_e$ also has a momentum  of $E_e$ as its mass is negligibly small. This is shown below. "
   ]
  },
  {
   "cell_type": "markdown",
   "id": "b1c70127-8236-416c-8821-c7ee01aa098b",
   "metadata": {},
   "source": [
    "$$E_e = \\sqrt{(m_e)^2+(p_e)^2}$$\n",
    "$$m_e \\ll p_e$$\n",
    "$$\\therefore \\ E_e \\simeq p_e \\ \\ \\ \\ \\ $$"
   ]
  },
  {
   "cell_type": "markdown",
   "id": "8b9d28a7-f562-4e9f-9369-1b9c06f73a0b",
   "metadata": {},
   "source": [
    "In the x-z plane as shown in the diagram above, $\\textbf{k}$ takes on value shown below. Note that the first component of the vector is the relativstic energy (and the units at JLab are normalized at the speed of light so c takes on the value of 1), the second component is momentum in the x-axis, and the third component is momentum in the z-axis. "
   ]
  },
  {
   "cell_type": "markdown",
   "id": "96f18646-080a-41d3-a8e6-f9b19731e496",
   "metadata": {},
   "source": [
    "$$\\textbf{k}=\\begin{pmatrix} E \\\\  p_x\\\\ p_z \\end{pmatrix}=\\begin{pmatrix} E_e \\\\  0\\\\ E_e \\end{pmatrix}$$"
   ]
  },
  {
   "cell_type": "markdown",
   "id": "2c073860-6eec-4e57-a2a7-d87c0d5b7be2",
   "metadata": {},
   "source": [
    "After the collision, the energy of the scattered electron ($E^\\prime_e$) and the energy of the ejected proton ($E^\\prime_p$) will be measured by the Bigbite and SuperBigbite detectors, respectively. The momentum of each particle after the collision can be calculated using the the energy–momentum relation shown below. Recall that becuase of the units used at JLab, c=1, and thus is neglected in the relationship. "
   ]
  },
  {
   "cell_type": "markdown",
   "id": "ac3e85e3-9ccf-42b7-8d0a-1c50f5556484",
   "metadata": {},
   "source": [
    "$$E=\\sqrt{m^2+p^2}$$"
   ]
  },
  {
   "cell_type": "markdown",
   "id": "d4ae7b1b-427d-48c2-a35e-0ef6a45f24fd",
   "metadata": {},
   "source": [
    "By considering the angle of scatter for each particle, the x and z components of the momentum can be determined. Consequently, the following conservation equation is derrived. Note that once again, the mass of the electron is considered to be negligibly small. "
   ]
  },
  {
   "cell_type": "markdown",
   "id": "579513ce-ed45-4ced-be56-2891206372d9",
   "metadata": {},
   "source": [
    "$$\\begin{pmatrix} E_e \\\\  0\\\\ E_e \\end{pmatrix} + \\begin{pmatrix} m_p \\\\  0\\\\ 0 \\end{pmatrix} = \\begin{pmatrix} E^\\prime_e \\\\  E^\\prime_e\\sin\\theta_k\\\\ E^\\prime_e\\cos\\theta_k \\end{pmatrix} + \\begin{pmatrix} E^\\prime_p \\\\  \\sqrt{(E^\\prime_p)^2-(m_p)^2}\\sin\\theta_p\\\\ \\sqrt{(E^\\prime_p)^2-(m_p)^2}\\cos\\theta_p \\end{pmatrix}$$"
   ]
  },
  {
   "cell_type": "markdown",
   "id": "serial-comedy",
   "metadata": {},
   "source": [
    "## Fringe Field Effect"
   ]
  },
  {
   "cell_type": "markdown",
   "id": "clinical-region",
   "metadata": {},
   "source": [
    "The fringe field effect is when the measurement field, the constant electrical current, extends outside of the probe. This is prevalent because the BBCal tightrope has strong SBS fringe fields. The SBS fringe field refers to the stray magnetic field generated by the magnet surrounding the calorimeter. This fringe field can affect the performance of the calorimeter, particularly in the region where the pre-shower and shower clusters are formed.\n",
    "\n",
    "In a typical particle shower development, high-energy particles interact with the calorimeter material, initiating electromagnetic and hadronic cascades. These cascades produce pre-shower and shower clusters, which are regions of energy deposition that correspond to the presence of particles."
   ]
  },
  {
   "cell_type": "markdown",
   "id": "developmental-festival",
   "metadata": {},
   "source": [
    "<img src=\"pictures/Fringe-Field Effect Diagram.png\" alt=\"fringe field PMT\" style=\"width:600px;height:400px;\">"
   ]
  },
  {
   "cell_type": "markdown",
   "id": "broken-month",
   "metadata": {},
   "source": [
    "##### Effect of SBS fringe field on Pre-Shower cluster energy"
   ]
  },
  {
   "cell_type": "markdown",
   "id": "statewide-zealand",
   "metadata": {},
   "source": [
    "<img src=\"pictures/FF_ps.png\" alt=\"fringe field pre-shower\" style=\"width:600px;height:400px;\">"
   ]
  },
  {
   "cell_type": "markdown",
   "id": "stuffed-namibia",
   "metadata": {},
   "source": [
    "In the graph that shows the effect of SBS fringe field on Pre-Shower cluster energy it can be seen that the SBS fringe field had significant effect on PS cluster energy in SBS-1 configuration. This strongly implies that the SBS fringe field did affect the gains of PS PMTs."
   ]
  },
  {
   "cell_type": "markdown",
   "id": "supposed-substitute",
   "metadata": {},
   "source": [
    "    "
   ]
  },
  {
   "cell_type": "markdown",
   "id": "lasting-college",
   "metadata": {},
   "source": [
    "##### Effect of SBS fringe field on Shower cluster energy"
   ]
  },
  {
   "cell_type": "markdown",
   "id": "electronic-aluminum",
   "metadata": {},
   "source": [
    "<img src=\"pictures/FF_sh.png\" alt=\"fringe field shower\" style=\"width:600px;height:400px;\">"
   ]
  },
  {
   "cell_type": "markdown",
   "id": "adequate-weekend",
   "metadata": {},
   "source": [
    "Similarly, the graph that shows the effect of SBS fringe field on Shower cluster energy was also affected by the SBS fringe field even if the magnitude was lower. "
   ]
  },
  {
   "cell_type": "markdown",
   "id": "ea4378d2-0e51-4786-83fe-acfff0c27cd9",
   "metadata": {},
   "source": [
    "### Analzing Detector Data"
   ]
  },
  {
   "cell_type": "markdown",
   "id": "f7e95794-163d-4351-990f-c02f9a0c2a88",
   "metadata": {},
   "source": [
    "The following notebooks were created to introduce analysis of the detector data using ROOT or a Python libary that reads ROOT files. "
   ]
  },
  {
   "cell_type": "markdown",
   "id": "280b1707-fec7-4dba-a52d-e3a4ec782f5a",
   "metadata": {},
   "source": [
    "<a href=\"root.ipynb\" title=\"Open ROOT jupyter notebook in another tab\" target=\"_blank\" rel=\"noopener noreferrer\">ROOT: &emsp;</a>Standard Data Anlysis using ROOT and C++"
   ]
  },
  {
   "cell_type": "markdown",
   "id": "ea4f49a8-934c-4c87-ae29-d24b5eeb6265",
   "metadata": {},
   "source": [
    "<a href=\"pyroot.ipynb\" title=\"Open PYROOT jupyter notebook in another tab\" target=\"_blank\" rel=\"noopener noreferrer\">PYROOT: &emsp;</a>Use a python libary that can call C++ ROOT functions"
   ]
  },
  {
   "cell_type": "markdown",
   "id": "1ba3224b-8b89-4d87-a975-d5896fd05acb",
   "metadata": {},
   "source": [
    "<a href=\"uproot.ipynb\" title=\"Open UPROOT jupyter notebook in another tab\" target=\"_blank\" rel=\"noopener noreferrer\">UPROOT: &emsp;</a>Read and write ROOT files in pure Python and NumPy"
   ]
  },
  {
   "cell_type": "markdown",
   "id": "f16c3d99-fc96-4775-b786-a54f964c80e1",
   "metadata": {},
   "source": [
    "Additionally, a tutorial was created on Markdown, a markup language that was used to create this tutorial and the others. Markdown is easy to read and write, an integrates LaTeX and HTML. "
   ]
  },
  {
   "cell_type": "markdown",
   "id": "363e72c7-723d-461f-9ca8-d0b124b0595b",
   "metadata": {},
   "source": [
    "<a href=\"markdown.ipynb\" title=\"Open Markdown jupyter notebook in another tab\" target=\"_blank\" rel=\"noopener noreferrer\">Markdown: &emsp;</a>Create formatted text using a plain-text editor"
   ]
  },
  {
   "cell_type": "markdown",
   "id": "fd6d06f5-278f-4056-925f-8f6848c2a1d3",
   "metadata": {},
   "source": [
    "<span style=\"font-weight:bold; font-size: 18px;\">Feedback: </span><span style=\"font-size: 16px;\">We would appreciate your feedback. Please take a couple of minutes to complete </span><a href=\"https://docs.google.com/forms/d/e/1FAIpQLSeYo_vDag2sYx81D7iQst4KdgF19F5OarKAPoCwrFGn2dv_fA/viewform?usp=sf_link\" title=\"Open google form\" target=\"_blank\" rel=\"noopener noreferrer\" style=\"font-weight:bold; font-size: 16px;\">this</a><span style=\"font-size: 16px;\"> google form. </span>"
   ]
  }
 ],
 "metadata": {
  "kernelspec": {
   "display_name": "Python 3 (ipykernel)",
   "language": "python",
   "name": "python3"
  },
  "language_info": {
   "codemirror_mode": {
    "name": "ipython",
    "version": 3
   },
   "file_extension": ".py",
   "mimetype": "text/x-python",
   "name": "python",
   "nbconvert_exporter": "python",
   "pygments_lexer": "ipython3",
   "version": "3.11.4"
  }
 },
 "nbformat": 4,
 "nbformat_minor": 5
}
